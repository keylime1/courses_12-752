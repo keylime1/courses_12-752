{
 "metadata": {
  "name": "",
  "signature": "sha256:32912f1741322052d4b52a56791a8201ed7bddefa30da81e3c86f8d36b6f9df8"
 },
 "nbformat": 3,
 "nbformat_minor": 0,
 "worksheets": [
  {
   "cells": [
    {
     "cell_type": "markdown",
     "metadata": {},
     "source": [
      "#Lecture \\#2: Setting up your Development Environment"
     ]
    },
    {
     "cell_type": "markdown",
     "metadata": {},
     "source": [
      "Here is what I intend to cover today:\n",
      "\n",
      "* Python Basics\n",
      "* What is Interactive Python (IPython)?\n",
      "* What are IPython Notebooks?\n",
      "* What are Hosted IPython Notebooks (like wakari.io)?\n",
      "* How do I make my code available to others (git)?\n",
      "* What is GitHub?\n",
      "\n",
      "At the end of this process, I would like for each of you to be able to create an IPython Notebook locally on your computer, edit it on Wakari.io, and then be able to allow anyone else to see it using GitHub's IPython Notebook Viewer.\n",
      "\n",
      "This very same file we have on the screen now will make that journey.\n"
     ]
    },
    {
     "cell_type": "markdown",
     "metadata": {},
     "source": [
      "## Before you begin\n",
      "\n",
      "Things you'll need to do ahead of time:\n",
      "\n",
      "1. Create an account on [wakari.io](http://wakari.io)\n",
      "2. Create an account on [github.com](http://github.com)\n",
      "3. Install the [Anaconda Python distribution](https://www.continuum.io/downloads) (Optional, if you want to edit files locally on your computer)\n",
      "4. Install git on your computer, which you can get [here](http://git-scm.com/) (Optional too, only if oyu want to interact with git repositories from your computer)\n",
      "\n",
      "Some references that will be **very** helpful to ensure you understand what we are doing and how it all works:\n",
      "\n",
      "1. Git References\n",
      "    * What it is and what is it used for? \n",
      "        * [Official Documentation](https://git-scm.com/documentation), especially the first three videos on this page.\n",
      "        * [Official Git Tutorial](https://git-scm.com/docs/gittutorial), if you are already familiar with the command line interface to some other version control software and just need to get started.\n",
      "    * How does it work?\n",
      "        * [Visual, interactive explanation](http://www.wei-wang.com/ExplainGitWithD3/#): this is really valuable if you want to wrap your head around the basic of what's happening under the hood.\n",
      "2. Wakari and Python References\n",
      "    * What is Wakari and what is it used for?\n",
      "        * First, a quick intro to [Python for Scientific Computing](http://nbviewer.ipython.org/github/jrjohansson/scientific-python-lectures/blob/master/Lecture-0-Scientific-Computing-with-Python.ipynb)\n",
      "        * Then, Wakari's [official documentation]()\n",
      "    * How do I use Python?\n",
      "        * Here's [a tutorial](http://nbviewer.ipython.org/github/jrjohansson/scientific-python-lectures/blob/master/Lecture-1-Introduction-to-Python-Programming.ipynb) (the one we looked at in class).\n",
      "        * Two libraries that we are going to be making extensive use of are numpy and matplotlib. The same person who wrote the tutorial above has tutorials for [numpy](http://nbviewer.ipython.org/github/jrjohansson/scientific-python-lectures/blob/master/Lecture-2-Numpy.ipynb) and [matplotlib](http://nbviewer.ipython.org/github/jrjohansson/scientific-python-lectures/blob/master/Lecture-4-Matplotlib.ipynb)\n",
      "    "
     ]
    },
    {
     "cell_type": "markdown",
     "metadata": {},
     "source": [
      "OK. Let's get you started."
     ]
    },
    {
     "cell_type": "markdown",
     "metadata": {},
     "source": [
      "## Cloning the course's git repository\n",
      "\n",
      "This file you are currently viewing is part of the course's git repository, which you can find here:\n",
      "\n",
      "[http://github.com/marioberges/courses_12-752/](http://github.com/marioberges/courses_12-752/)\n",
      "\n",
      "Since it is in a public repository, you should be able to clone that repository into your computer and edit each file locally. For that, you could either clone it using the command line interface to git, or a graphical user interface (whichever you installed on your computer if you chose to install git). From the command line, for instance, you would issue this command to clone it:\n",
      "\n",
      "```\n",
      "git clone http://github.com/marioberges/courses_12-752.git\n",
      "```"
     ]
    },
    {
     "cell_type": "markdown",
     "metadata": {},
     "source": [
      "If you are planning to edit IPython Notebooks locally on your computer (and not with Wakari.io), then make sure that you can clone the repository into your computer by issuing that command.\n",
      "\n",
      "If you are successful, you will be able to see a new folder called `courses_12-752` inside the folder where you issued the command. A copy of this IPython Notebook file should be in there as well, and you can view it by opening an IPython Notebook Server as follows:\n",
      "\n",
      "```\n",
      "ipython notebook\n",
      "```\n",
      "\n",
      "Just make sure you issue this last command on the corresponding folder."
     ]
    },
    {
     "cell_type": "markdown",
     "metadata": {},
     "source": [
      "### Cloning the repository on the Wakari.io server\n",
      "Now let's test if you can also do this on Wakari.io. In other words, we will be cloning the class git repository into your Wakari.io environment, so that the files (including this notebook) are accessible to you on Wakari.io and you can use the IPython Notebook there to edit files and do whatever you like.\n",
      "\n",
      "All you need to do is to go to Terminal mode on Wakari.io, and launch a new \"Shell\" terminal. Once there, you can use the same command we had issued earlier to clone the repository:\n",
      "\n",
      "```\n",
      "git clone http://github.com/marioberges/courses_12-752.git\n",
      "```"
     ]
    },
    {
     "cell_type": "markdown",
     "metadata": {},
     "source": [
      "If you were successful in doing this, then you will see a new folder appear on the left hand side of the screen (the folder view) called `courses_12-752`. You may need to hit the refresh button to see it.\n",
      "\n",
      "Now you can open that folder and load the IPython Notebook file for this lecture and edit it in Wakari.io"
     ]
    },
    {
     "cell_type": "markdown",
     "metadata": {},
     "source": [
      "# Creating and using your own repositories\n",
      "\n",
      "The steps we followed above were for cloning the course's official repository. However, you will want to repeat these steps for any other repository you may be interested in working with, especially the ones that you end up creating under your Github account. Thus, let's practice importing one of your repositories.\n",
      "\n",
      "Follow these steps:\n",
      "\n",
      "1. Head over to github.com and log in using your credentials.\n",
      "2. Create a new repository and name it whatever you like.\n",
      "3. At the end of the process you will be given a checkout string. Copy that.\n",
      "4. Use the checkout string to replace the one we used earlier that looked like this:\n",
      "    ```\n",
      "    git clone http://github.com/yourusername/yourrepository.git\n",
      "    ```\n",
      "5. Try issuing that command on your Wakari.io terminal (obviously, replacing `yourusername` and `yourrepository` with the right information)\n",
      "6. If all goes well, you'll have your (empty) repository available for use in Wakari.io."
     ]
    },
    {
     "cell_type": "markdown",
     "metadata": {},
     "source": [
      "Now it's time for you to practice some of your recently learned git skills. \n",
      "\n",
      "Create a new IPython notebook in Wakari.io, making sure to place it inside the folder of the repository you just cloned. \n",
      "\n",
      "Add a couple of Python commands to it, or some comments, and save it.\n",
      "\n",
      "Now go back to the terminal and add, commit and push the changes to your repository:\n",
      "\n",
      "```\n",
      "git add yourfile.ipynb\n",
      "git commit -m \"Made my first commit\"\n",
      "git push origin master\n",
      "```\n",
      "\n",
      "If this worked, you should be able to see the file added to your repository by simply pointing your browser to:\n",
      "\n",
      "`http://github.com/yourusername/yourrepository`"
     ]
    },
    {
     "cell_type": "markdown",
     "metadata": {},
     "source": [
      "## Doing away with the terminal\n",
      "\n",
      "Because IPython can be used to issue commands to a shell, directly, you can avoid having to switch to a terminal screen if you want to. This means we could have performed all of the above git manipulation directly from this notebook. The trick is to create a *Code* cell (the default type of cells) in the IPython notebook and then issuing the commands preceded by a `!` sign, as follows:"
     ]
    },
    {
     "cell_type": "code",
     "collapsed": false,
     "input": [
      "!git status"
     ],
     "language": "python",
     "metadata": {},
     "outputs": [
      {
       "output_type": "stream",
       "stream": "stdout",
       "text": [
        "On branch master\r\n",
        "Your branch is up-to-date with 'origin/master'.\r\n",
        "Changes not staged for commit:\r\n",
        "  (use \"git add <file>...\" to update what will be committed)\r\n",
        "  (use \"git checkout -- <file>...\" to discard changes in working directory)\r\n",
        "\r\n",
        "\t\u001b[31mmodified:   Lecutre2.ipynb\u001b[m\r\n",
        "\r\n",
        "Untracked files:\r\n",
        "  (use \"git add <file>...\" to include in what will be committed)\r\n",
        "\r\n",
        "\t\u001b[31m../.bundle/\u001b[m\r\n",
        "\t\u001b[31m../.ipynb_checkpoints/\u001b[m\r\n",
        "\t\u001b[31m../Gemfile\u001b[m\r\n",
        "\t\u001b[31m../lecture2_live.ipynb\u001b[m\r\n",
        "\t\u001b[31m.ipynb_checkpoints/\u001b[m\r\n",
        "\r\n",
        "no changes added to commit (use \"git add\" and/or \"git commit -a\")\r\n"
       ]
      }
     ],
     "prompt_number": 1
    },
    {
     "cell_type": "markdown",
     "metadata": {},
     "source": [
      "Try running the above cell and see what you get."
     ]
    },
    {
     "cell_type": "code",
     "collapsed": false,
     "input": [],
     "language": "python",
     "metadata": {},
     "outputs": []
    }
   ],
   "metadata": {}
  }
 ]
}